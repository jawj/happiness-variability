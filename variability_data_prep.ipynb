{
 "cells": [
  {
   "cell_type": "markdown",
   "metadata": {},
   "source": [
    "# Variability: original data prep\n",
    "\n",
    "This notebook tidies up the original data."
   ]
  },
  {
   "cell_type": "code",
   "execution_count": 14,
   "metadata": {},
   "outputs": [
    {
     "name": "stdout",
     "output_type": "stream",
     "text": [
      "\n",
      "(set more preference recorded)\n",
      "\n"
     ]
    }
   ],
   "source": [
    "set more off, permanently\n",
    "set scheme s1mono"
   ]
  },
  {
   "cell_type": "markdown",
   "metadata": {},
   "source": [
    "Valid responses are defined as those that:\n",
    "\n",
    "* don't have missing data (the release app didn't allow missing responses)\n",
    "* have at least one and no more than 12 activities\n",
    "* are made within one hour of a beep\n",
    "* are completed within a further five minutes\n",
    "\n",
    "On the additional data cleaning rules:\n",
    "\n",
    "* under-18s weren't supposed to sign up, over-99s seem more likely an input error than a true age\n",
    "* the project didn't launch until mid-August 2010, so anything prior is test data\n",
    "* 2017 + 2018 together comprise only 0.8% of the data"
   ]
  },
  {
   "cell_type": "code",
   "execution_count": 15,
   "metadata": {},
   "outputs": [
    {
     "name": "stdout",
     "output_type": "stream",
     "text": [
      "\n",
      "\n",
      "(5,233,285 observations deleted)\n",
      "\n",
      "(77,706 observations deleted)\n",
      "\n"
     ]
    }
   ],
   "source": [
    "use \"mappiness.dta\", replace\n",
    "keep if valid_response\n",
    "\n",
    "drop if age_at_signup < 18 | age_at_signup > 99 | response_td < date(\"2010-08-14\", \"YMD\") | response_td > date(\"2016-12-31\", \"YMD\")\n",
    "format %tdDay_DD_Mon_CCYY response_td"
   ]
  },
  {
   "cell_type": "markdown",
   "metadata": {},
   "source": [
    "Now we keep only the variables required for this analysis:"
   ]
  },
  {
   "cell_type": "code",
   "execution_count": 16,
   "metadata": {},
   "outputs": [],
   "source": [
    "#delimit ;\n",
    "keep \n",
    "  response_id  // unique row identifier\n",
    "  user_id  // unique respondent identifier\n",
    "  response_td  // start-of-response timestamp (day resolution)\n",
    "  response_tc  // start-of-response timestamp (ms resolution)\n",
    "  response_seq  // number of prior responses by this respondent\n",
    "  do_*  // dummies for respondent's current activities (e.g. do_work = Working, studying)\n",
    "\n",
    "  // the following are hedonic variables asked on a continuous slider, scaled 0 - 100\n",
    "  feel_hpy  // happy\n",
    "  feel_rlx  // relaxed\n",
    "  feel_awk  // awake\n",
    "\n",
    "  // the following are all constant per respondent, because the items were asked only once\n",
    "  male  // sex dummy: 1 = male, 0 = female \n",
    "  age_at_signup  // respondent's sign-up year minus birth year\n",
    "  hhinc //  gross household income (midpoint of income band)\n",
    "  lnhhinc  // log of gross household income (midpoint of income band)\n",
    "  mrg  // marital status\n",
    "  work  // employment status\n",
    "  kids  // number of under-16s in the household\n",
    "  adults  // number of 16+ adults in the household\n",
    "  health  // subjective health, 1 (poor) - 5 (excellent)\n",
    "  ls  // life satisfaction rating, scale of 1 - 10\n",
    "  \n",
    "  // UK Government Office region of the location identified (via 'at home' response(s)) as respondent's home\n",
    "  home_nspd_go_region\n",
    ";\n",
    "#delimit cr"
   ]
  },
  {
   "cell_type": "code",
   "execution_count": 17,
   "metadata": {},
   "outputs": [
    {
     "name": "stdout",
     "output_type": "stream",
     "text": [
      "\n",
      "(59,071 real changes made)\n",
      "\n"
     ]
    }
   ],
   "source": [
    "replace work = 8 if work == 4  // work == 4 means 'Other', and it reads better if this comes at the end\n",
    "label define work 8 \"other\", add"
   ]
  },
  {
   "cell_type": "code",
   "execution_count": 18,
   "metadata": {},
   "outputs": [
    {
     "name": "stdout",
     "output_type": "stream",
     "text": [
      "file mappiness_variability_raw.dta saved\n"
     ]
    }
   ],
   "source": [
    "save \"mappiness_variability_raw.dta\", replace"
   ]
  }
 ],
 "metadata": {
  "kernelspec": {
   "display_name": "Stata",
   "language": "stata",
   "name": "stata"
  },
  "language_info": {
   "codemirror_mode": "stata",
   "file_extension": ".do",
   "mimetype": "text/x-stata",
   "name": "stata",
   "version": "15.1"
  },
  "toc-autonumbering": true,
  "toc-showmarkdowntxt": false,
  "toc-showtags": false
 },
 "nbformat": 4,
 "nbformat_minor": 4
}
